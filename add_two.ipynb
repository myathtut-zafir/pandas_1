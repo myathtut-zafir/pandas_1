{
 "cells": [
  {
   "cell_type": "code",
   "execution_count": 1,
   "metadata": {},
   "outputs": [],
   "source": [
    "import pandas as pd\n",
    "bios=oly_data=pd.read_excel('./data/olympics-data.xlsx',)"
   ]
  },
  {
   "cell_type": "code",
   "execution_count": 18,
   "metadata": {},
   "outputs": [],
   "source": [
    "bios_new=bios.copy()\n",
    "bios_new['first_name']=bios_new['name'].str.split(' ').str[0]\n",
    "# bios_new.query('first_name==\"Keith\"')\n",
    "bios_new['born_dateTime']=pd.to_datetime(bios_new['born_date'],format=\"%Y-%m-%d\")\n",
    "bios_new['born_year']=bios_new['born_dateTime'].dt.year\n",
    "# bios_new[['name','born_year','born_dateTime']] # col filter\n",
    "bios_new.to_csv('./data/bios_new_csv.csv',index=False)"
   ]
  }
 ],
 "metadata": {
  "kernelspec": {
   "display_name": "Python 3",
   "language": "python",
   "name": "python3"
  },
  "language_info": {
   "codemirror_mode": {
    "name": "ipython",
    "version": 3
   },
   "file_extension": ".py",
   "mimetype": "text/x-python",
   "name": "python",
   "nbconvert_exporter": "python",
   "pygments_lexer": "ipython3",
   "version": "3.12.4"
  }
 },
 "nbformat": 4,
 "nbformat_minor": 2
}
